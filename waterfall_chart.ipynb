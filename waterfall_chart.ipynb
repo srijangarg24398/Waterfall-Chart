{
 "cells": [
  {
   "cell_type": "code",
   "execution_count": 1,
   "metadata": {},
   "outputs": [
    {
     "data": {
      "text/html": [
       "<div>\n",
       "<style scoped>\n",
       "    .dataframe tbody tr th:only-of-type {\n",
       "        vertical-align: middle;\n",
       "    }\n",
       "\n",
       "    .dataframe tbody tr th {\n",
       "        vertical-align: top;\n",
       "    }\n",
       "\n",
       "    .dataframe thead th {\n",
       "        text-align: right;\n",
       "    }\n",
       "</style>\n",
       "<table border=\"1\" class=\"dataframe\">\n",
       "  <thead>\n",
       "    <tr style=\"text-align: right;\">\n",
       "      <th></th>\n",
       "      <th>amount</th>\n",
       "    </tr>\n",
       "  </thead>\n",
       "  <tbody>\n",
       "    <tr>\n",
       "      <th>sales</th>\n",
       "      <td>350000</td>\n",
       "    </tr>\n",
       "    <tr>\n",
       "      <th>returns</th>\n",
       "      <td>-30000</td>\n",
       "    </tr>\n",
       "    <tr>\n",
       "      <th>credit fees</th>\n",
       "      <td>-7500</td>\n",
       "    </tr>\n",
       "    <tr>\n",
       "      <th>rebates</th>\n",
       "      <td>-25000</td>\n",
       "    </tr>\n",
       "    <tr>\n",
       "      <th>late charges</th>\n",
       "      <td>95000</td>\n",
       "    </tr>\n",
       "    <tr>\n",
       "      <th>shipping</th>\n",
       "      <td>-7000</td>\n",
       "    </tr>\n",
       "  </tbody>\n",
       "</table>\n",
       "</div>"
      ],
      "text/plain": [
       "              amount\n",
       "sales         350000\n",
       "returns       -30000\n",
       "credit fees    -7500\n",
       "rebates       -25000\n",
       "late charges   95000\n",
       "shipping       -7000"
      ]
     },
     "metadata": {},
     "output_type": "display_data"
    },
    {
     "data": {
      "text/plain": [
       "sales           350000\n",
       "returns         320000\n",
       "credit fees     312500\n",
       "rebates         287500\n",
       "late charges    382500\n",
       "shipping        375500\n",
       "Name: amount, dtype: int64"
      ]
     },
     "metadata": {},
     "output_type": "display_data"
    },
    {
     "data": {
      "text/plain": [
       "sales                0.0\n",
       "returns         350000.0\n",
       "credit fees     320000.0\n",
       "rebates         312500.0\n",
       "late charges    287500.0\n",
       "shipping        382500.0\n",
       "Name: amount, dtype: float64"
      ]
     },
     "metadata": {},
     "output_type": "display_data"
    },
    {
     "data": {
      "text/html": [
       "<div>\n",
       "<style scoped>\n",
       "    .dataframe tbody tr th:only-of-type {\n",
       "        vertical-align: middle;\n",
       "    }\n",
       "\n",
       "    .dataframe tbody tr th {\n",
       "        vertical-align: top;\n",
       "    }\n",
       "\n",
       "    .dataframe thead th {\n",
       "        text-align: right;\n",
       "    }\n",
       "</style>\n",
       "<table border=\"1\" class=\"dataframe\">\n",
       "  <thead>\n",
       "    <tr style=\"text-align: right;\">\n",
       "      <th></th>\n",
       "      <th>amount</th>\n",
       "    </tr>\n",
       "  </thead>\n",
       "  <tbody>\n",
       "    <tr>\n",
       "      <th>sales</th>\n",
       "      <td>350000</td>\n",
       "    </tr>\n",
       "    <tr>\n",
       "      <th>returns</th>\n",
       "      <td>-30000</td>\n",
       "    </tr>\n",
       "    <tr>\n",
       "      <th>credit fees</th>\n",
       "      <td>-7500</td>\n",
       "    </tr>\n",
       "    <tr>\n",
       "      <th>rebates</th>\n",
       "      <td>-25000</td>\n",
       "    </tr>\n",
       "    <tr>\n",
       "      <th>late charges</th>\n",
       "      <td>95000</td>\n",
       "    </tr>\n",
       "    <tr>\n",
       "      <th>shipping</th>\n",
       "      <td>-7000</td>\n",
       "    </tr>\n",
       "    <tr>\n",
       "      <th>net</th>\n",
       "      <td>375500</td>\n",
       "    </tr>\n",
       "  </tbody>\n",
       "</table>\n",
       "</div>"
      ],
      "text/plain": [
       "              amount\n",
       "sales         350000\n",
       "returns       -30000\n",
       "credit fees    -7500\n",
       "rebates       -25000\n",
       "late charges   95000\n",
       "shipping       -7000\n",
       "net           375500"
      ]
     },
     "metadata": {},
     "output_type": "display_data"
    },
    {
     "data": {
      "text/plain": [
       "sales                0.0\n",
       "returns         350000.0\n",
       "credit fees     320000.0\n",
       "rebates         312500.0\n",
       "late charges    287500.0\n",
       "shipping        382500.0\n",
       "net             375500.0\n",
       "Name: amount, dtype: float64"
      ]
     },
     "metadata": {},
     "output_type": "display_data"
    },
    {
     "data": {
      "text/plain": [
       "0         0.0\n",
       "0         NaN\n",
       "0    350000.0\n",
       "1    350000.0\n",
       "1         NaN\n",
       "1    320000.0\n",
       "2    320000.0\n",
       "2         NaN\n",
       "2    312500.0\n",
       "3    312500.0\n",
       "3         NaN\n",
       "3    287500.0\n",
       "4    287500.0\n",
       "4         NaN\n",
       "4    382500.0\n",
       "5    382500.0\n",
       "5         NaN\n",
       "5    375500.0\n",
       "6    375500.0\n",
       "6         NaN\n",
       "6         NaN\n",
       "Name: amount, dtype: float64"
      ]
     },
     "metadata": {},
     "output_type": "display_data"
    }
   ],
   "source": [
    "import numpy as np\n",
    "import pandas as pd\n",
    "import matplotlib.pyplot as plt\n",
    "\n",
    "index = ['sales','returns','credit fees','rebates','late charges','shipping']\n",
    "data = {'amount': [350000,-30000,-7500,-25000,95000,-7000]}\n",
    "trans = pd.DataFrame(data=data,index=index)\n",
    "\n",
    "from IPython.display import display\n",
    "display(trans)\n",
    "display(trans.amount.cumsum())\n",
    "# Shift data one position right as in cumulative starting value is 0\n",
    "blank=trans.amount.cumsum().shift(1).fillna(0)\n",
    "display(blank)\n",
    "\n",
    "total=trans.sum().amount\n",
    "trans.loc[\"net\"]=total\n",
    "blank.loc[\"net\"]=total\n",
    "\n",
    "display(trans)\n",
    "display(blank)\n",
    "\n",
    "# Create the steps\n",
    "step=blank.reset_index(drop=True).repeat(3).shift(-1)\n",
    "step[1::3]=np.nan\n",
    "display(step)\n",
    "blank.loc[\"net\"] = 0"
   ]
  },
  {
   "cell_type": "code",
   "execution_count": 2,
   "metadata": {},
   "outputs": [
    {
     "data": {
      "text/plain": [
       "[<matplotlib.lines.Line2D at 0x10f023cd0>]"
      ]
     },
     "execution_count": 2,
     "metadata": {},
     "output_type": "execute_result"
    },
    {
     "data": {
      "image/png": "[encoded data removed]",
      "text/plain": [
       "<Figure size 432x288 with 1 Axes>"
      ]
     },
     "metadata": {},
     "output_type": "display_data"
    }
   ],
   "source": [
    "my_plot = trans.plot(kind='bar',stacked=True,bottom=blank, title=\"2014 Sales Waterfall\",color=['g'])\n",
    "my_plot.plot(step.index,step.values,'k')"
   ]
  },
  {
   "cell_type": "code",
   "execution_count": 11,
   "metadata": {},
   "outputs": [
    {
     "data": {
      "text/plain": [
       "(0, 407533.0)"
      ]
     },
     "execution_count": 11,
     "metadata": {},
     "output_type": "execute_result"
    },
    {
     "data": {
      "image/png": "[encoded data removed]",
      "text/plain": [
       "<Figure size 432x288 with 1 Axes>"
      ]
     },
     "metadata": {},
     "output_type": "display_data"
    }
   ],
   "source": [
    "def money(x, pos):\n",
    "    'The two args are the value and tick position'\n",
    "    return \"${:,.0f}\".format(x)\n",
    "from matplotlib.ticker import FuncFormatter\n",
    "formatter = FuncFormatter(money)\n",
    "\n",
    "my_plot = trans.plot(kind='bar', stacked=True, bottom=blank,legend=None, title=\"2014 Sales Waterfall\")\n",
    "my_plot.plot(step.index, step.values,'k')\n",
    "my_plot.set_xlabel(\"Transaction Types\")\n",
    "my_plot.yaxis.set_major_formatter(formatter)\n",
    "my_plot.set_xticklabels(trans.index,rotation=0)\n",
    "\n",
    "y_height = trans.amount.cumsum().shift(1).fillna(0)\n",
    "max = trans.max()\n",
    "neg_offset = max / 25\n",
    "pos_offset = max / 50\n",
    "plot_offset = int(max / 15)\n",
    "\n",
    "loop = 0\n",
    "for index, row in trans.iterrows():\n",
    "    # For the last item in the list, we don't want to double count\n",
    "    if row['amount'] == total:\n",
    "        y = y_height[loop]\n",
    "    else:\n",
    "        y = y_height[loop] + row['amount']\n",
    "    # Determine if we want a neg or pos offset\n",
    "    if row['amount'] > 0:\n",
    "        y += pos_offset\n",
    "    else:\n",
    "        y -= neg_offset\n",
    "    my_plot.annotate(\"{:,.0f}\".format(row['amount']),(loop,y),ha=\"center\")\n",
    "    loop+=1\n",
    "my_plot.set_ylim(0,blank.max()+int(plot_offset))"
   ]
  },
  {
   "cell_type": "code",
   "execution_count": null,
   "metadata": {},
   "outputs": [],
   "source": []
  }
 ],
 "metadata": {
  "kernelspec": {
   "display_name": "Python 2",
   "language": "python",
   "name": "python2"
  },
  "language_info": {
   "codemirror_mode": {
    "name": "ipython",
    "version": 2
   },
   "file_extension": ".py",
   "mimetype": "text/x-python",
   "name": "python",
   "nbconvert_exporter": "python",
   "pygments_lexer": "ipython2",
   "version": "2.7.15"
  }
 },
 "nbformat": 4,
 "nbformat_minor": 2
}
